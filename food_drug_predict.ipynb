{
 "cells": [
  {
   "cell_type": "code",
   "execution_count": 798,
   "id": "89617f56",
   "metadata": {
    "scrolled": false
   },
   "outputs": [
    {
     "data": {
      "text/html": [
       "<div>\n",
       "<style scoped>\n",
       "    .dataframe tbody tr th:only-of-type {\n",
       "        vertical-align: middle;\n",
       "    }\n",
       "\n",
       "    .dataframe tbody tr th {\n",
       "        vertical-align: top;\n",
       "    }\n",
       "\n",
       "    .dataframe thead th {\n",
       "        text-align: right;\n",
       "    }\n",
       "</style>\n",
       "<table border=\"1\" class=\"dataframe\">\n",
       "  <thead>\n",
       "    <tr style=\"text-align: right;\">\n",
       "      <th></th>\n",
       "      <th>Value1</th>\n",
       "      <th>Value2</th>\n",
       "      <th>Value3</th>\n",
       "      <th>Value4</th>\n",
       "      <th>Value5</th>\n",
       "      <th>Value6</th>\n",
       "      <th>Value7</th>\n",
       "      <th>Value8</th>\n",
       "      <th>Value9</th>\n",
       "      <th>Value10</th>\n",
       "      <th>Value11</th>\n",
       "      <th>Value12</th>\n",
       "      <th>Value13</th>\n",
       "      <th>Value14</th>\n",
       "      <th>Value15</th>\n",
       "      <th>Value16</th>\n",
       "      <th>Value17</th>\n",
       "      <th>Value18</th>\n",
       "      <th>Substance</th>\n",
       "    </tr>\n",
       "  </thead>\n",
       "  <tbody>\n",
       "    <tr>\n",
       "      <th>0</th>\n",
       "      <td>247</td>\n",
       "      <td>516</td>\n",
       "      <td>447</td>\n",
       "      <td>726</td>\n",
       "      <td>8866</td>\n",
       "      <td>20429</td>\n",
       "      <td>1007</td>\n",
       "      <td>1349</td>\n",
       "      <td>17772</td>\n",
       "      <td>1155</td>\n",
       "      <td>2753</td>\n",
       "      <td>820</td>\n",
       "      <td>655</td>\n",
       "      <td>486</td>\n",
       "      <td>545</td>\n",
       "      <td>422</td>\n",
       "      <td>17348</td>\n",
       "      <td>5110</td>\n",
       "      <td>Cassava Flour</td>\n",
       "    </tr>\n",
       "    <tr>\n",
       "      <th>1</th>\n",
       "      <td>247</td>\n",
       "      <td>516</td>\n",
       "      <td>447</td>\n",
       "      <td>726</td>\n",
       "      <td>8864</td>\n",
       "      <td>20426</td>\n",
       "      <td>1006</td>\n",
       "      <td>1349</td>\n",
       "      <td>17776</td>\n",
       "      <td>1155</td>\n",
       "      <td>2755</td>\n",
       "      <td>820</td>\n",
       "      <td>655</td>\n",
       "      <td>486</td>\n",
       "      <td>545</td>\n",
       "      <td>422</td>\n",
       "      <td>17348</td>\n",
       "      <td>5110</td>\n",
       "      <td>Cassava Flour</td>\n",
       "    </tr>\n",
       "    <tr>\n",
       "      <th>2</th>\n",
       "      <td>247</td>\n",
       "      <td>516</td>\n",
       "      <td>447</td>\n",
       "      <td>726</td>\n",
       "      <td>8863</td>\n",
       "      <td>20425</td>\n",
       "      <td>1007</td>\n",
       "      <td>1349</td>\n",
       "      <td>17802</td>\n",
       "      <td>1156</td>\n",
       "      <td>2759</td>\n",
       "      <td>820</td>\n",
       "      <td>655</td>\n",
       "      <td>486</td>\n",
       "      <td>546</td>\n",
       "      <td>422</td>\n",
       "      <td>17349</td>\n",
       "      <td>5112</td>\n",
       "      <td>Cassava Flour</td>\n",
       "    </tr>\n",
       "    <tr>\n",
       "      <th>3</th>\n",
       "      <td>247</td>\n",
       "      <td>516</td>\n",
       "      <td>447</td>\n",
       "      <td>726</td>\n",
       "      <td>8861</td>\n",
       "      <td>20424</td>\n",
       "      <td>1007</td>\n",
       "      <td>1350</td>\n",
       "      <td>17825</td>\n",
       "      <td>1157</td>\n",
       "      <td>2762</td>\n",
       "      <td>821</td>\n",
       "      <td>656</td>\n",
       "      <td>486</td>\n",
       "      <td>546</td>\n",
       "      <td>422</td>\n",
       "      <td>17349</td>\n",
       "      <td>5113</td>\n",
       "      <td>Cassava Flour</td>\n",
       "    </tr>\n",
       "    <tr>\n",
       "      <th>4</th>\n",
       "      <td>247</td>\n",
       "      <td>516</td>\n",
       "      <td>447</td>\n",
       "      <td>726</td>\n",
       "      <td>8860</td>\n",
       "      <td>20420</td>\n",
       "      <td>1007</td>\n",
       "      <td>1349</td>\n",
       "      <td>17812</td>\n",
       "      <td>1156</td>\n",
       "      <td>2761</td>\n",
       "      <td>820</td>\n",
       "      <td>655</td>\n",
       "      <td>486</td>\n",
       "      <td>546</td>\n",
       "      <td>422</td>\n",
       "      <td>17348</td>\n",
       "      <td>5113</td>\n",
       "      <td>Cassava Flour</td>\n",
       "    </tr>\n",
       "    <tr>\n",
       "      <th>...</th>\n",
       "      <td>...</td>\n",
       "      <td>...</td>\n",
       "      <td>...</td>\n",
       "      <td>...</td>\n",
       "      <td>...</td>\n",
       "      <td>...</td>\n",
       "      <td>...</td>\n",
       "      <td>...</td>\n",
       "      <td>...</td>\n",
       "      <td>...</td>\n",
       "      <td>...</td>\n",
       "      <td>...</td>\n",
       "      <td>...</td>\n",
       "      <td>...</td>\n",
       "      <td>...</td>\n",
       "      <td>...</td>\n",
       "      <td>...</td>\n",
       "      <td>...</td>\n",
       "      <td>...</td>\n",
       "    </tr>\n",
       "    <tr>\n",
       "      <th>385</th>\n",
       "      <td>133</td>\n",
       "      <td>236</td>\n",
       "      <td>177</td>\n",
       "      <td>293</td>\n",
       "      <td>3446</td>\n",
       "      <td>7078</td>\n",
       "      <td>459</td>\n",
       "      <td>534</td>\n",
       "      <td>17465</td>\n",
       "      <td>638</td>\n",
       "      <td>2073</td>\n",
       "      <td>339</td>\n",
       "      <td>375</td>\n",
       "      <td>288</td>\n",
       "      <td>388</td>\n",
       "      <td>331</td>\n",
       "      <td>5091</td>\n",
       "      <td>1332</td>\n",
       "      <td>3.5% Fat Milk</td>\n",
       "    </tr>\n",
       "    <tr>\n",
       "      <th>386</th>\n",
       "      <td>131</td>\n",
       "      <td>235</td>\n",
       "      <td>176</td>\n",
       "      <td>292</td>\n",
       "      <td>3441</td>\n",
       "      <td>7074</td>\n",
       "      <td>454</td>\n",
       "      <td>530</td>\n",
       "      <td>17100</td>\n",
       "      <td>630</td>\n",
       "      <td>2034</td>\n",
       "      <td>337</td>\n",
       "      <td>371</td>\n",
       "      <td>283</td>\n",
       "      <td>384</td>\n",
       "      <td>327</td>\n",
       "      <td>5090</td>\n",
       "      <td>1331</td>\n",
       "      <td>3.5% Fat Milk</td>\n",
       "    </tr>\n",
       "    <tr>\n",
       "      <th>387</th>\n",
       "      <td>131</td>\n",
       "      <td>235</td>\n",
       "      <td>176</td>\n",
       "      <td>292</td>\n",
       "      <td>3436</td>\n",
       "      <td>7068</td>\n",
       "      <td>451</td>\n",
       "      <td>528</td>\n",
       "      <td>16965</td>\n",
       "      <td>628</td>\n",
       "      <td>2019</td>\n",
       "      <td>336</td>\n",
       "      <td>369</td>\n",
       "      <td>282</td>\n",
       "      <td>382</td>\n",
       "      <td>324</td>\n",
       "      <td>5090</td>\n",
       "      <td>1331</td>\n",
       "      <td>3.5% Fat Milk</td>\n",
       "    </tr>\n",
       "    <tr>\n",
       "      <th>388</th>\n",
       "      <td>131</td>\n",
       "      <td>235</td>\n",
       "      <td>176</td>\n",
       "      <td>292</td>\n",
       "      <td>3431</td>\n",
       "      <td>7063</td>\n",
       "      <td>452</td>\n",
       "      <td>528</td>\n",
       "      <td>16934</td>\n",
       "      <td>628</td>\n",
       "      <td>2014</td>\n",
       "      <td>335</td>\n",
       "      <td>368</td>\n",
       "      <td>282</td>\n",
       "      <td>381</td>\n",
       "      <td>324</td>\n",
       "      <td>5090</td>\n",
       "      <td>1332</td>\n",
       "      <td>3.5% Fat Milk</td>\n",
       "    </tr>\n",
       "    <tr>\n",
       "      <th>389</th>\n",
       "      <td>130</td>\n",
       "      <td>234</td>\n",
       "      <td>176</td>\n",
       "      <td>291</td>\n",
       "      <td>3427</td>\n",
       "      <td>7057</td>\n",
       "      <td>446</td>\n",
       "      <td>524</td>\n",
       "      <td>16617</td>\n",
       "      <td>620</td>\n",
       "      <td>1984</td>\n",
       "      <td>332</td>\n",
       "      <td>364</td>\n",
       "      <td>278</td>\n",
       "      <td>377</td>\n",
       "      <td>319</td>\n",
       "      <td>5089</td>\n",
       "      <td>1331</td>\n",
       "      <td>3.5% Fat Milk</td>\n",
       "    </tr>\n",
       "  </tbody>\n",
       "</table>\n",
       "<p>390 rows × 19 columns</p>\n",
       "</div>"
      ],
      "text/plain": [
       "     Value1  Value2  Value3  Value4  Value5  Value6  Value7  Value8  Value9  \\\n",
       "0       247     516     447     726    8866   20429    1007    1349   17772   \n",
       "1       247     516     447     726    8864   20426    1006    1349   17776   \n",
       "2       247     516     447     726    8863   20425    1007    1349   17802   \n",
       "3       247     516     447     726    8861   20424    1007    1350   17825   \n",
       "4       247     516     447     726    8860   20420    1007    1349   17812   \n",
       "..      ...     ...     ...     ...     ...     ...     ...     ...     ...   \n",
       "385     133     236     177     293    3446    7078     459     534   17465   \n",
       "386     131     235     176     292    3441    7074     454     530   17100   \n",
       "387     131     235     176     292    3436    7068     451     528   16965   \n",
       "388     131     235     176     292    3431    7063     452     528   16934   \n",
       "389     130     234     176     291    3427    7057     446     524   16617   \n",
       "\n",
       "     Value10  Value11  Value12  Value13  Value14  Value15  Value16  Value17  \\\n",
       "0       1155     2753      820      655      486      545      422    17348   \n",
       "1       1155     2755      820      655      486      545      422    17348   \n",
       "2       1156     2759      820      655      486      546      422    17349   \n",
       "3       1157     2762      821      656      486      546      422    17349   \n",
       "4       1156     2761      820      655      486      546      422    17348   \n",
       "..       ...      ...      ...      ...      ...      ...      ...      ...   \n",
       "385      638     2073      339      375      288      388      331     5091   \n",
       "386      630     2034      337      371      283      384      327     5090   \n",
       "387      628     2019      336      369      282      382      324     5090   \n",
       "388      628     2014      335      368      282      381      324     5090   \n",
       "389      620     1984      332      364      278      377      319     5089   \n",
       "\n",
       "     Value18      Substance  \n",
       "0       5110  Cassava Flour  \n",
       "1       5110  Cassava Flour  \n",
       "2       5112  Cassava Flour  \n",
       "3       5113  Cassava Flour  \n",
       "4       5113  Cassava Flour  \n",
       "..       ...            ...  \n",
       "385     1332  3.5% Fat Milk  \n",
       "386     1331  3.5% Fat Milk  \n",
       "387     1331  3.5% Fat Milk  \n",
       "388     1332  3.5% Fat Milk  \n",
       "389     1331  3.5% Fat Milk  \n",
       "\n",
       "[390 rows x 19 columns]"
      ]
     },
     "execution_count": 798,
     "metadata": {},
     "output_type": "execute_result"
    }
   ],
   "source": [
    "import pandas as pd\n",
    "import numpy as np\n",
    "import math\n",
    "from matplotlib import pyplot as plt\n",
    "\n",
    "\n",
    "obj_df = pd.read_csv('objdbase.csv')\n",
    "obj_df # The dataset"
   ]
  },
  {
   "cell_type": "code",
   "execution_count": 799,
   "id": "30302088",
   "metadata": {},
   "outputs": [
    {
     "name": "stdout",
     "output_type": "stream",
     "text": [
      "[129, 235, 178, 299, 3593, 7257, 434, 516, 15344, 605, 1823, 327, 351, 266, 366, 307, 5096, 1311, '3.5% Fat Milk']\n",
      "[131, 236, 179, 299, 3583, 7245, 448, 527, 16493, 626, 1956, 334, 364, 281, 379, 323, 5100, 1315, '3.5% Fat Milk']\n",
      "[132, 237, 178, 299, 3572, 7232, 452, 530, 16703, 630, 1975, 336, 367, 282, 382, 325, 5101, 1317, '3.5% Fat Milk']\n",
      "[132, 236, 178, 298, 3563, 7221, 450, 529, 16531, 628, 1960, 335, 366, 280, 380, 323, 5102, 1318, '3.5% Fat Milk']\n",
      "[131, 236, 178, 298, 3555, 7210, 447, 526, 16311, 625, 1933, 333, 363, 278, 377, 319, 5101, 1319, '3.5% Fat Milk']\n"
     ]
    }
   ],
   "source": [
    "for i in obj_df.loc[obj_df['Substance'] == '3.5% Fat Milk'].head().values:\n",
    "    print(list(i))"
   ]
  },
  {
   "cell_type": "code",
   "execution_count": 800,
   "id": "81c6f90a",
   "metadata": {},
   "outputs": [
    {
     "name": "stdout",
     "output_type": "stream",
     "text": [
      "(390, 19)\n"
     ]
    }
   ],
   "source": [
    "print(obj_df.shape) # 390 rows and 19 columns"
   ]
  },
  {
   "cell_type": "code",
   "execution_count": 801,
   "id": "8b269e6a",
   "metadata": {},
   "outputs": [
    {
     "name": "stdout",
     "output_type": "stream",
     "text": [
      "['Cassava Flour', 'Garri', 'Honey', 'Sunflower Oil', '4%-Fat Liquid Milk', 'White Onion', 'Table Salt', 'Yam Flour', 'Paracetamol', 'Fresh Tomato', 'Rapeseed Oil', 'Clipper Oil', '3.5% Fat Milk']\n"
     ]
    }
   ],
   "source": [
    "unique_subs = list(obj_df.Substance.unique()) # The unique substances\n",
    "print(unique_subs)"
   ]
  },
  {
   "cell_type": "code",
   "execution_count": 802,
   "id": "426fdb2c",
   "metadata": {},
   "outputs": [
    {
     "name": "stdout",
     "output_type": "stream",
     "text": [
      "13\n"
     ]
    }
   ],
   "source": [
    "print(len(obj_df.Substance.unique())) # There are 13 different unique substances"
   ]
  },
  {
   "cell_type": "code",
   "execution_count": 803,
   "id": "68c65389",
   "metadata": {},
   "outputs": [
    {
     "name": "stdout",
     "output_type": "stream",
     "text": [
      "Cassava Flour         30\n",
      "Garri                 30\n",
      "Honey                 30\n",
      "Sunflower Oil         30\n",
      "4%-Fat Liquid Milk    30\n",
      "White Onion           30\n",
      "Table Salt            30\n",
      "Yam Flour             30\n",
      "Paracetamol           30\n",
      "Fresh Tomato          30\n",
      "Rapeseed Oil          30\n",
      "Clipper Oil           30\n",
      "3.5% Fat Milk         30\n",
      "Name: Substance, dtype: int64\n"
     ]
    }
   ],
   "source": [
    "print(obj_df['Substance'].value_counts()) # Each substance was scanned 30 times"
   ]
  },
  {
   "cell_type": "code",
   "execution_count": 804,
   "id": "36ede4aa",
   "metadata": {},
   "outputs": [
    {
     "data": {
      "image/png": "[encoded data removed]",
      "text/plain": [
       "<Figure size 432x288 with 1 Axes>"
      ]
     },
     "metadata": {
      "needs_background": "light"
     },
     "output_type": "display_data"
    }
   ],
   "source": [
    "x_val = unique_subs\n",
    "y_val = list(obj_df['Substance'].value_counts())\n",
    "plt.bar(x_val, y_val)\n",
    "plt.xlabel('Substances')\n",
    "plt.ylabel('No of Scanns')\n",
    "plt.title('The Original Dataset')\n",
    "plt.show()"
   ]
  },
  {
   "cell_type": "code",
   "execution_count": 805,
   "id": "910803a0",
   "metadata": {},
   "outputs": [
    {
     "name": "stdout",
     "output_type": "stream",
     "text": [
      "[[247 516 447 ... 17348 5110 'Cassava Flour']\n",
      " [247 516 447 ... 17348 5110 'Cassava Flour']\n",
      " [247 516 447 ... 17349 5112 'Cassava Flour']\n",
      " ...\n",
      " [131 235 176 ... 5090 1331 '3.5% Fat Milk']\n",
      " [131 235 176 ... 5090 1332 '3.5% Fat Milk']\n",
      " [130 234 176 ... 5089 1331 '3.5% Fat Milk']]\n"
     ]
    }
   ],
   "source": [
    "# The values of the ddatasets only (without the column names)\n",
    "obj_vals = obj_df.values\n",
    "print(obj_vals)"
   ]
  },
  {
   "cell_type": "code",
   "execution_count": 806,
   "id": "6940c27c",
   "metadata": {},
   "outputs": [
    {
     "name": "stdout",
     "output_type": "stream",
     "text": [
      "[[246, 516, 446, 724, 8831, 20379, 1005, 1347, 17883, 1156, 2771, 820, 654, 483, 543, 420, 17330, 5114, 'Cassava Flour'], [186, 399, 350, 561, 7108, 15672, 570, 854, 6411, 630, 968, 513, 294, 222, 288, 230, 12735, 3737, 'Garri'], [70, 141, 101, 155, 1514, 3401, 189, 270, 1564, 261, 262, 157, 186, 255, 244, 163, 2468, 673, 'Honey'], [119, 221, 134, 190, 2010, 4044, 296, 363, 14339, 472, 1433, 247, 358, 347, 352, 257, 2901, 778, 'Sunflower Oil'], [141, 245, 187, 308, 3540, 7341, 534, 622, 25661, 702, 2956, 390, 544, 518, 575, 432, 5721, 1523, '4%-Fat Liquid Milk'], [116, 246, 213, 328, 3927, 8688, 321, 522, 761, 356, 271, 328, 159, 123, 156, 112, 8633, 2389, 'White Onion'], [197, 448, 366, 613, 7296, 16274, 1000, 1109, 45150, 1241, 7568, 794, 1889, 1256, 880, 513, 11233, 3458, 'Table Salt'], [198, 406, 357, 525, 6037, 12463, 592, 794, 31683, 694, 4723, 434, 843, 748, 750, 500, 7717, 2468, 'Yam Flour'], [143, 256, 216, 360, 3288, 7006, 762, 689, 27490, 783, 12789, 402, 5825, 4342, 2382, 1022, 4749, 1808, 'Paracetamol'], [88, 196, 150, 246, 4027, 7533, 186, 300, 612, 285, 174, 207, 112, 76, 100, 80, 4535, 1132, 'Fresh Tomato'], [125, 365, 183, 222, 2254, 4655, 308, 384, 15175, 553, 1501, 332, 377, 354, 368, 270, 3362, 858, 'Rapeseed Oil'], [105, 189, 135, 213, 2271, 4691, 312, 381, 24423, 538, 2954, 278, 438, 307, 298, 212, 3513, 869, 'Clipper Oil'], [129, 235, 176, 294, 3498, 7143, 437, 519, 15898, 612, 1892, 328, 356, 272, 370, 313, 5093, 1323, '3.5% Fat Milk']]\n"
     ]
    }
   ],
   "source": [
    "def val_ave(df):\n",
    "    '''\n",
    "    This function performs element-wise addition and averaging of the numerical values of the datasets, substance-by-substance.\n",
    "    At the end it produces a dataset of these values together with their corresponding substances.\n",
    "    \n",
    "    Params: Dataset of fingerprints (numerical values) with their corresponding substance labels. One important condition is\n",
    "    that all the substances must be scanned for equal number of times.\n",
    "    \n",
    "    Returns: A list of lists of the averaged datasets, with their corresponding substance labels.\n",
    "    '''\n",
    "    vals_list = np.zeros(18)\n",
    "    cnt = 0\n",
    "    num_scan = len(df.values)/len(df.Substance.unique()) # Number of scans of eah substance\n",
    "    vals_lists = []\n",
    "\n",
    "    for subs in list(df.Substance.unique()):\n",
    "        for vals in df.values:\n",
    "            if vals[-1] == subs: # vals[-1] is the last element in the list which is the substance\n",
    "                cnt += 1\n",
    "                vals_list = np.add(vals_list, np.array(vals[:-1])) # Element-wise addition. vals[:-1] is a list of only the numerical values\n",
    "\n",
    "            elif cnt == num_scan:\n",
    "                break\n",
    "\n",
    "        vals_list /= num_scan # Element-wise averaging\n",
    "        vals_list = np.around(list(vals_list))\n",
    "        vals_list = list(vals_list)\n",
    "        vals_list = [math.trunc(fin_list) for fin_list in vals_list] # Remove decimal points\n",
    "        vals_list.append(subs)\n",
    "        vals_lists.append(vals_list)\n",
    "        cnt = 0\n",
    "        vals_list = np.zeros(18)\n",
    "        \n",
    "    return  vals_lists\n",
    "    \n",
    "vals_lists = val_ave(obj_df)\n",
    "print(vals_lists)"
   ]
  },
  {
   "cell_type": "code",
   "execution_count": 807,
   "id": "4307e752",
   "metadata": {},
   "outputs": [
    {
     "name": "stdout",
     "output_type": "stream",
     "text": [
      "[[17, 181, 168, 325, 5138, 13022, 471, 731, 2439, 451, 848, 393, 203, 117, 77, 13, 12134, 3703, 'Cassava Flour'], [43, 64, 72, 162, 3415, 8315, 36, 238, 8833, 75, 755, 86, 43, 56, 22, 23, 7539, 2326, 'Garri'], [41, 6, 23, 44, 1979, 3756, 145, 146, 13680, 244, 1461, 70, 65, 89, 22, 44, 2528, 538, 'Honey'], [90, 86, 56, 9, 1483, 3113, 38, 53, 905, 33, 290, 20, 93, 19, 86, 50, 2095, 433, 'Sunflower Oil'], [88, 90, 91, 91, 47, 16, 0, 6, 10217, 3, 1033, 37, 93, 152, 109, 25, 525, 112, '4%-Fat Liquid Milk'], [87, 89, 65, 71, 234, 1331, 13, 94, 14483, 149, 1452, 99, 92, 43, 110, 95, 3437, 978, 'White Onion'], [32, 113, 88, 214, 3603, 8917, 466, 493, 29706, 536, 5645, 367, 1438, 890, 414, 106, 6037, 2047, 'Table Salt'], [31, 71, 79, 126, 2344, 5106, 58, 178, 16239, 11, 2800, 7, 392, 382, 284, 93, 2521, 1057, 'Yam Flour'], [86, 79, 62, 39, 205, 151, 228, 73, 12046, 78, 10866, 25, 5374, 3976, 1916, 615, 247, 397, 'Paracetamol'], [59, 61, 72, 47, 334, 176, 148, 116, 14632, 220, 1549, 20, 139, 90, 166, 127, 461, 79, 'Fresh Tomato'], [96, 30, 95, 23, 1239, 2502, 26, 32, 69, 48, 222, 95, 74, 12, 98, 63, 1634, 353, 'Rapeseed Oil'], [76, 54, 57, 14, 1222, 2466, 22, 35, 8979, 33, 1031, 51, 13, 59, 32, 5, 1483, 342, 'Clipper Oil'], [100, 100, 98, 95, 5, 14, 97, 97, 454, 93, 31, 99, 95, 94, 96, 94, 97, 88, '3.5% Fat Milk']]\n"
     ]
    }
   ],
   "source": [
    "garri = [186, 399, 350, 561, 7108, 15672, 570, 854, 6411, 630, 968, 513, 294, 222, 288, 230, 12735, 3737]\n",
    "honey = [70, 141, 101, 155, 1514, 3401, 189, 270, 1564, 261, 262, 157, 186, 255, 244, 163, 2468, 673]\n",
    "milk_4 = [141, 245, 187, 308, 3540, 7341, 534, 622, 25661, 702, 2956, 390, 544, 518, 575, 432, 5721, 1523]\n",
    "milk_3 = [129, 235, 176, 294, 3498, 7143, 437, 519, 15898, 612, 1892, 328, 356, 272, 370, 313, 5093, 1323]\n",
    "milks_3 = [129, 235, 178, 299, 3593, 7257, 434, 516, 15344, 605, 1823, 327, 351, 266, 366, 307, 5096, 1311]\n",
    "\n",
    "def list_diffs(obj_name, vals_lists=vals_lists):\n",
    "    diffs_lists = []\n",
    "\n",
    "    for lists in vals_lists:\n",
    "        diff_list = np.absolute(np.subtract(np.array(obj_name), np.array(lists[:-1])))\n",
    "        diff_lists = list(np.absolute(np.subtract(100, diff_list)))\n",
    "        diff_lists.append(lists[-1])\n",
    "        diffs_lists.append(diff_lists)\n",
    "        \n",
    "    return diffs_lists\n",
    "\n",
    "diffs_lists = list_diffs(milks_3)\n",
    "print(diffs_lists)"
   ]
  },
  {
   "cell_type": "code",
   "execution_count": 808,
   "id": "81c54016",
   "metadata": {},
   "outputs": [
    {
     "name": "stdout",
     "output_type": "stream",
     "text": [
      "[['Cassava Flour', '2246'], ['Garri', '1783'], ['Honey', '1382'], ['Sunflower Oil', '497'], ['4%-Fat Liquid Milk', '707'], ['White Onion', '1273'], ['Table Salt', '3395'], ['Yam Flour', '1765'], ['Paracetamol', '2025'], ['Fresh Tomato', '1027'], ['Rapeseed Oil', '372'], ['Clipper Oil', '887'], ['3.5% Fat Milk', '102']]\n"
     ]
    }
   ],
   "source": [
    "def pairiing(diffs_lists=diffs_lists):\n",
    "    div_list = []\n",
    "    div_lists = []\n",
    "    added = 0\n",
    "    for my_list in diffs_lists:\n",
    "        divided = 0\n",
    "        for element in my_list[:-1]:\n",
    "            added += element\n",
    "        divided = added / len(my_list[:-1])    \n",
    "        div_list = list(np.append(my_list[-1], int(divided)))\n",
    "        div_lists.append(div_list)\n",
    "        added = 0\n",
    "\n",
    "    return div_lists\n",
    "\n",
    "div_lists = pairiing()\n",
    "print(div_lists)"
   ]
  },
  {
   "cell_type": "code",
   "execution_count": 809,
   "id": "0a06f9e5",
   "metadata": {},
   "outputs": [
    {
     "data": {
      "image/png": "[encoded data removed]",
      "text/plain": [
       "<Figure size 432x288 with 1 Axes>"
      ]
     },
     "metadata": {
      "needs_background": "light"
     },
     "output_type": "display_data"
    },
    {
     "data": {
      "image/png": "[encoded data removed]",
      "text/plain": [
       "<Figure size 432x288 with 1 Axes>"
      ]
     },
     "metadata": {
      "needs_background": "light"
     },
     "output_type": "display_data"
    },
    {
     "name": "stdout",
     "output_type": "stream",
     "text": [
      "More likely substance(s): [['Rapeseed Oil', '372'], ['3.5% Fat Milk', '102']]\n",
      "Less likely substance(s): [['Cassava Flour', '2246'], ['Garri', '1783'], ['Honey', '1382'], ['Sunflower Oil', '497'], ['4%-Fat Liquid Milk', '707'], ['White Onion', '1273'], ['Table Salt', '3395'], ['Yam Flour', '1765'], ['Paracetamol', '2025'], ['Fresh Tomato', '1027'], ['Clipper Oil', '887']]\n"
     ]
    }
   ],
   "source": [
    "def collections(div_lists=div_lists):\n",
    "    coll_1 = []\n",
    "    coll_2 = []\n",
    "    obj_coll_1 = []\n",
    "    val_coll_1 = []\n",
    "    obj_coll_2 = []\n",
    "    val_coll_2 = []\n",
    "    for pairs in div_lists:\n",
    "        if 50 <= int(pairs[-1]) <= 373:\n",
    "            coll_1.append(pairs)\n",
    "        else:\n",
    "            coll_2.append(pairs)\n",
    "            \n",
    "    for pack in coll_1:\n",
    "        obj_coll_1.append(pack[0])\n",
    "        val_coll_1.append(int(pack[1]))\n",
    "        \n",
    "    plt.bar(obj_coll_1, val_coll_1)\n",
    "    plt.xlabel('Substances')\n",
    "    plt.ylabel('Proportion')\n",
    "    plt.title('Likely Substance(s)')\n",
    "    plt.show()\n",
    "    \n",
    "    for packs in coll_2:\n",
    "        obj_coll_2.append(packs[0])\n",
    "        val_coll_2.append(int(packs[1]))\n",
    "        \n",
    "    plt.bar(obj_coll_2, val_coll_2)\n",
    "    plt.xlabel('Substances')\n",
    "    plt.ylabel('Proportion')\n",
    "    plt.title('Less likely Substance(s)')\n",
    "    plt.show()\n",
    "        \n",
    "    return 'More likely substance(s): {}'.format(coll_1), 'Less likely substance(s): {}'.format(coll_2)\n",
    "\n",
    "coll_1, coll_2 = collections()\n",
    "print(coll_1)\n",
    "print(coll_2)"
   ]
  }
 ],
 "metadata": {
  "kernelspec": {
   "display_name": "Python 3 (ipykernel)",
   "language": "python",
   "name": "python3"
  },
  "language_info": {
   "codemirror_mode": {
    "name": "ipython",
    "version": 3
   },
   "file_extension": ".py",
   "mimetype": "text/x-python",
   "name": "python",
   "nbconvert_exporter": "python",
   "pygments_lexer": "ipython3",
   "version": "3.9.7"
  }
 },
 "nbformat": 4,
 "nbformat_minor": 5
}
