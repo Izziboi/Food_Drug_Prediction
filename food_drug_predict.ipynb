{
 "cells": [
  {
   "cell_type": "markdown",
   "id": "3d284e4a",
   "metadata": {},
   "source": [
    "### This is the function-by-function implementation of the codes. The class implemetation is contained in the 'pred_class' file."
   ]
  },
  {
   "cell_type": "code",
   "execution_count": 15,
   "id": "89617f56",
   "metadata": {
    "scrolled": false
   },
   "outputs": [
    {
     "data": {
      "text/html": [
       "<div>\n",
       "<style scoped>\n",
       "    .dataframe tbody tr th:only-of-type {\n",
       "        vertical-align: middle;\n",
       "    }\n",
       "\n",
       "    .dataframe tbody tr th {\n",
       "        vertical-align: top;\n",
       "    }\n",
       "\n",
       "    .dataframe thead th {\n",
       "        text-align: right;\n",
       "    }\n",
       "</style>\n",
       "<table border=\"1\" class=\"dataframe\">\n",
       "  <thead>\n",
       "    <tr style=\"text-align: right;\">\n",
       "      <th></th>\n",
       "      <th>Value1</th>\n",
       "      <th>Value2</th>\n",
       "      <th>Value3</th>\n",
       "      <th>Value4</th>\n",
       "      <th>Value5</th>\n",
       "      <th>Value6</th>\n",
       "      <th>Value7</th>\n",
       "      <th>Value8</th>\n",
       "      <th>Value9</th>\n",
       "      <th>Value10</th>\n",
       "      <th>Value11</th>\n",
       "      <th>Value12</th>\n",
       "      <th>Value13</th>\n",
       "      <th>Value14</th>\n",
       "      <th>Value15</th>\n",
       "      <th>Value16</th>\n",
       "      <th>Value17</th>\n",
       "      <th>Value18</th>\n",
       "      <th>Substance</th>\n",
       "    </tr>\n",
       "  </thead>\n",
       "  <tbody>\n",
       "    <tr>\n",
       "      <th>0</th>\n",
       "      <td>247</td>\n",
       "      <td>516</td>\n",
       "      <td>447</td>\n",
       "      <td>726</td>\n",
       "      <td>8866</td>\n",
       "      <td>20429</td>\n",
       "      <td>1007</td>\n",
       "      <td>1349</td>\n",
       "      <td>17772</td>\n",
       "      <td>1155</td>\n",
       "      <td>2753</td>\n",
       "      <td>820</td>\n",
       "      <td>655</td>\n",
       "      <td>486</td>\n",
       "      <td>545</td>\n",
       "      <td>422</td>\n",
       "      <td>17348</td>\n",
       "      <td>5110</td>\n",
       "      <td>Cassava Flour</td>\n",
       "    </tr>\n",
       "    <tr>\n",
       "      <th>1</th>\n",
       "      <td>247</td>\n",
       "      <td>516</td>\n",
       "      <td>447</td>\n",
       "      <td>726</td>\n",
       "      <td>8864</td>\n",
       "      <td>20426</td>\n",
       "      <td>1006</td>\n",
       "      <td>1349</td>\n",
       "      <td>17776</td>\n",
       "      <td>1155</td>\n",
       "      <td>2755</td>\n",
       "      <td>820</td>\n",
       "      <td>655</td>\n",
       "      <td>486</td>\n",
       "      <td>545</td>\n",
       "      <td>422</td>\n",
       "      <td>17348</td>\n",
       "      <td>5110</td>\n",
       "      <td>Cassava Flour</td>\n",
       "    </tr>\n",
       "    <tr>\n",
       "      <th>2</th>\n",
       "      <td>247</td>\n",
       "      <td>516</td>\n",
       "      <td>447</td>\n",
       "      <td>726</td>\n",
       "      <td>8863</td>\n",
       "      <td>20425</td>\n",
       "      <td>1007</td>\n",
       "      <td>1349</td>\n",
       "      <td>17802</td>\n",
       "      <td>1156</td>\n",
       "      <td>2759</td>\n",
       "      <td>820</td>\n",
       "      <td>655</td>\n",
       "      <td>486</td>\n",
       "      <td>546</td>\n",
       "      <td>422</td>\n",
       "      <td>17349</td>\n",
       "      <td>5112</td>\n",
       "      <td>Cassava Flour</td>\n",
       "    </tr>\n",
       "    <tr>\n",
       "      <th>3</th>\n",
       "      <td>247</td>\n",
       "      <td>516</td>\n",
       "      <td>447</td>\n",
       "      <td>726</td>\n",
       "      <td>8861</td>\n",
       "      <td>20424</td>\n",
       "      <td>1007</td>\n",
       "      <td>1350</td>\n",
       "      <td>17825</td>\n",
       "      <td>1157</td>\n",
       "      <td>2762</td>\n",
       "      <td>821</td>\n",
       "      <td>656</td>\n",
       "      <td>486</td>\n",
       "      <td>546</td>\n",
       "      <td>422</td>\n",
       "      <td>17349</td>\n",
       "      <td>5113</td>\n",
       "      <td>Cassava Flour</td>\n",
       "    </tr>\n",
       "    <tr>\n",
       "      <th>4</th>\n",
       "      <td>247</td>\n",
       "      <td>516</td>\n",
       "      <td>447</td>\n",
       "      <td>726</td>\n",
       "      <td>8860</td>\n",
       "      <td>20420</td>\n",
       "      <td>1007</td>\n",
       "      <td>1349</td>\n",
       "      <td>17812</td>\n",
       "      <td>1156</td>\n",
       "      <td>2761</td>\n",
       "      <td>820</td>\n",
       "      <td>655</td>\n",
       "      <td>486</td>\n",
       "      <td>546</td>\n",
       "      <td>422</td>\n",
       "      <td>17348</td>\n",
       "      <td>5113</td>\n",
       "      <td>Cassava Flour</td>\n",
       "    </tr>\n",
       "    <tr>\n",
       "      <th>...</th>\n",
       "      <td>...</td>\n",
       "      <td>...</td>\n",
       "      <td>...</td>\n",
       "      <td>...</td>\n",
       "      <td>...</td>\n",
       "      <td>...</td>\n",
       "      <td>...</td>\n",
       "      <td>...</td>\n",
       "      <td>...</td>\n",
       "      <td>...</td>\n",
       "      <td>...</td>\n",
       "      <td>...</td>\n",
       "      <td>...</td>\n",
       "      <td>...</td>\n",
       "      <td>...</td>\n",
       "      <td>...</td>\n",
       "      <td>...</td>\n",
       "      <td>...</td>\n",
       "      <td>...</td>\n",
       "    </tr>\n",
       "    <tr>\n",
       "      <th>385</th>\n",
       "      <td>133</td>\n",
       "      <td>236</td>\n",
       "      <td>177</td>\n",
       "      <td>293</td>\n",
       "      <td>3446</td>\n",
       "      <td>7078</td>\n",
       "      <td>459</td>\n",
       "      <td>534</td>\n",
       "      <td>17465</td>\n",
       "      <td>638</td>\n",
       "      <td>2073</td>\n",
       "      <td>339</td>\n",
       "      <td>375</td>\n",
       "      <td>288</td>\n",
       "      <td>388</td>\n",
       "      <td>331</td>\n",
       "      <td>5091</td>\n",
       "      <td>1332</td>\n",
       "      <td>3.5% Fat Milk</td>\n",
       "    </tr>\n",
       "    <tr>\n",
       "      <th>386</th>\n",
       "      <td>131</td>\n",
       "      <td>235</td>\n",
       "      <td>176</td>\n",
       "      <td>292</td>\n",
       "      <td>3441</td>\n",
       "      <td>7074</td>\n",
       "      <td>454</td>\n",
       "      <td>530</td>\n",
       "      <td>17100</td>\n",
       "      <td>630</td>\n",
       "      <td>2034</td>\n",
       "      <td>337</td>\n",
       "      <td>371</td>\n",
       "      <td>283</td>\n",
       "      <td>384</td>\n",
       "      <td>327</td>\n",
       "      <td>5090</td>\n",
       "      <td>1331</td>\n",
       "      <td>3.5% Fat Milk</td>\n",
       "    </tr>\n",
       "    <tr>\n",
       "      <th>387</th>\n",
       "      <td>131</td>\n",
       "      <td>235</td>\n",
       "      <td>176</td>\n",
       "      <td>292</td>\n",
       "      <td>3436</td>\n",
       "      <td>7068</td>\n",
       "      <td>451</td>\n",
       "      <td>528</td>\n",
       "      <td>16965</td>\n",
       "      <td>628</td>\n",
       "      <td>2019</td>\n",
       "      <td>336</td>\n",
       "      <td>369</td>\n",
       "      <td>282</td>\n",
       "      <td>382</td>\n",
       "      <td>324</td>\n",
       "      <td>5090</td>\n",
       "      <td>1331</td>\n",
       "      <td>3.5% Fat Milk</td>\n",
       "    </tr>\n",
       "    <tr>\n",
       "      <th>388</th>\n",
       "      <td>131</td>\n",
       "      <td>235</td>\n",
       "      <td>176</td>\n",
       "      <td>292</td>\n",
       "      <td>3431</td>\n",
       "      <td>7063</td>\n",
       "      <td>452</td>\n",
       "      <td>528</td>\n",
       "      <td>16934</td>\n",
       "      <td>628</td>\n",
       "      <td>2014</td>\n",
       "      <td>335</td>\n",
       "      <td>368</td>\n",
       "      <td>282</td>\n",
       "      <td>381</td>\n",
       "      <td>324</td>\n",
       "      <td>5090</td>\n",
       "      <td>1332</td>\n",
       "      <td>3.5% Fat Milk</td>\n",
       "    </tr>\n",
       "    <tr>\n",
       "      <th>389</th>\n",
       "      <td>130</td>\n",
       "      <td>234</td>\n",
       "      <td>176</td>\n",
       "      <td>291</td>\n",
       "      <td>3427</td>\n",
       "      <td>7057</td>\n",
       "      <td>446</td>\n",
       "      <td>524</td>\n",
       "      <td>16617</td>\n",
       "      <td>620</td>\n",
       "      <td>1984</td>\n",
       "      <td>332</td>\n",
       "      <td>364</td>\n",
       "      <td>278</td>\n",
       "      <td>377</td>\n",
       "      <td>319</td>\n",
       "      <td>5089</td>\n",
       "      <td>1331</td>\n",
       "      <td>3.5% Fat Milk</td>\n",
       "    </tr>\n",
       "  </tbody>\n",
       "</table>\n",
       "<p>390 rows × 19 columns</p>\n",
       "</div>"
      ],
      "text/plain": [
       "     Value1  Value2  Value3  Value4  Value5  Value6  Value7  Value8  Value9  \\\n",
       "0       247     516     447     726    8866   20429    1007    1349   17772   \n",
       "1       247     516     447     726    8864   20426    1006    1349   17776   \n",
       "2       247     516     447     726    8863   20425    1007    1349   17802   \n",
       "3       247     516     447     726    8861   20424    1007    1350   17825   \n",
       "4       247     516     447     726    8860   20420    1007    1349   17812   \n",
       "..      ...     ...     ...     ...     ...     ...     ...     ...     ...   \n",
       "385     133     236     177     293    3446    7078     459     534   17465   \n",
       "386     131     235     176     292    3441    7074     454     530   17100   \n",
       "387     131     235     176     292    3436    7068     451     528   16965   \n",
       "388     131     235     176     292    3431    7063     452     528   16934   \n",
       "389     130     234     176     291    3427    7057     446     524   16617   \n",
       "\n",
       "     Value10  Value11  Value12  Value13  Value14  Value15  Value16  Value17  \\\n",
       "0       1155     2753      820      655      486      545      422    17348   \n",
       "1       1155     2755      820      655      486      545      422    17348   \n",
       "2       1156     2759      820      655      486      546      422    17349   \n",
       "3       1157     2762      821      656      486      546      422    17349   \n",
       "4       1156     2761      820      655      486      546      422    17348   \n",
       "..       ...      ...      ...      ...      ...      ...      ...      ...   \n",
       "385      638     2073      339      375      288      388      331     5091   \n",
       "386      630     2034      337      371      283      384      327     5090   \n",
       "387      628     2019      336      369      282      382      324     5090   \n",
       "388      628     2014      335      368      282      381      324     5090   \n",
       "389      620     1984      332      364      278      377      319     5089   \n",
       "\n",
       "     Value18      Substance  \n",
       "0       5110  Cassava Flour  \n",
       "1       5110  Cassava Flour  \n",
       "2       5112  Cassava Flour  \n",
       "3       5113  Cassava Flour  \n",
       "4       5113  Cassava Flour  \n",
       "..       ...            ...  \n",
       "385     1332  3.5% Fat Milk  \n",
       "386     1331  3.5% Fat Milk  \n",
       "387     1331  3.5% Fat Milk  \n",
       "388     1332  3.5% Fat Milk  \n",
       "389     1331  3.5% Fat Milk  \n",
       "\n",
       "[390 rows x 19 columns]"
      ]
     },
     "execution_count": 15,
     "metadata": {},
     "output_type": "execute_result"
    }
   ],
   "source": [
    "import pandas as pd\n",
    "import numpy as np\n",
    "import math\n",
    "from matplotlib import pyplot as plt\n",
    "\n",
    "from sklearn.ensemble import RandomForestClassifier\n",
    "from sklearn.model_selection import train_test_split\n",
    "\n",
    "\n",
    "obj_df = pd.read_csv('objdbase.csv')\n",
    "obj_df # The dataset"
   ]
  },
  {
   "cell_type": "code",
   "execution_count": 16,
   "id": "0e891fc0",
   "metadata": {},
   "outputs": [
    {
     "data": {
      "text/plain": [
       "18"
      ]
     },
     "execution_count": 16,
     "metadata": {},
     "output_type": "execute_result"
    }
   ],
   "source": [
    "len(obj_df.columns)-1"
   ]
  },
  {
   "cell_type": "code",
   "execution_count": 17,
   "id": "30302088",
   "metadata": {},
   "outputs": [
    {
     "name": "stdout",
     "output_type": "stream",
     "text": [
      "[129, 235, 178, 299, 3593, 7257, 434, 516, 15344, 605, 1823, 327, 351, 266, 366, 307, 5096, 1311, '3.5% Fat Milk']\n",
      "[131, 236, 179, 299, 3583, 7245, 448, 527, 16493, 626, 1956, 334, 364, 281, 379, 323, 5100, 1315, '3.5% Fat Milk']\n",
      "[132, 237, 178, 299, 3572, 7232, 452, 530, 16703, 630, 1975, 336, 367, 282, 382, 325, 5101, 1317, '3.5% Fat Milk']\n",
      "[132, 236, 178, 298, 3563, 7221, 450, 529, 16531, 628, 1960, 335, 366, 280, 380, 323, 5102, 1318, '3.5% Fat Milk']\n",
      "[131, 236, 178, 298, 3555, 7210, 447, 526, 16311, 625, 1933, 333, 363, 278, 377, 319, 5101, 1319, '3.5% Fat Milk']\n"
     ]
    }
   ],
   "source": [
    "for i in obj_df.loc[obj_df['Substance'] == '3.5% Fat Milk'].head().values:\n",
    "    print(list(i))"
   ]
  },
  {
   "cell_type": "code",
   "execution_count": 18,
   "id": "81c6f90a",
   "metadata": {},
   "outputs": [
    {
     "name": "stdout",
     "output_type": "stream",
     "text": [
      "(390, 19)\n"
     ]
    }
   ],
   "source": [
    "print(obj_df.shape) # 390 rows and 19 columns"
   ]
  },
  {
   "cell_type": "code",
   "execution_count": 19,
   "id": "8b269e6a",
   "metadata": {},
   "outputs": [
    {
     "name": "stdout",
     "output_type": "stream",
     "text": [
      "['Cassava Flour', 'Garri', 'Honey', 'Sunflower Oil', '4%-Fat Liquid Milk', 'White Onion', 'Table Salt', 'Yam Flour', 'Paracetamol', 'Fresh Tomato', 'Rapeseed Oil', 'Clipper Oil', '3.5% Fat Milk']\n"
     ]
    }
   ],
   "source": [
    "unique_subs = list(obj_df.Substance.unique()) # The unique substances\n",
    "print(unique_subs)"
   ]
  },
  {
   "cell_type": "code",
   "execution_count": 20,
   "id": "426fdb2c",
   "metadata": {},
   "outputs": [
    {
     "name": "stdout",
     "output_type": "stream",
     "text": [
      "13\n"
     ]
    }
   ],
   "source": [
    "print(len(obj_df.Substance.unique())) # There are 13 different unique substances"
   ]
  },
  {
   "cell_type": "code",
   "execution_count": 21,
   "id": "68c65389",
   "metadata": {},
   "outputs": [
    {
     "name": "stdout",
     "output_type": "stream",
     "text": [
      "Cassava Flour         30\n",
      "Garri                 30\n",
      "Honey                 30\n",
      "Sunflower Oil         30\n",
      "4%-Fat Liquid Milk    30\n",
      "White Onion           30\n",
      "Table Salt            30\n",
      "Yam Flour             30\n",
      "Paracetamol           30\n",
      "Fresh Tomato          30\n",
      "Rapeseed Oil          30\n",
      "Clipper Oil           30\n",
      "3.5% Fat Milk         30\n",
      "Name: Substance, dtype: int64\n"
     ]
    }
   ],
   "source": [
    "print(obj_df['Substance'].value_counts()) # Each substance was scanned 30 times"
   ]
  },
  {
   "cell_type": "code",
   "execution_count": 22,
   "id": "36ede4aa",
   "metadata": {},
   "outputs": [
    {
     "data": {
      "image/png": "[encoded data removed]",
      "text/plain": [
       "<Figure size 432x288 with 1 Axes>"
      ]
     },
     "metadata": {
      "needs_background": "light"
     },
     "output_type": "display_data"
    }
   ],
   "source": [
    "# A plot of the substances in the database with their number of scans.\n",
    "x_val = unique_subs\n",
    "y_val = list(obj_df['Substance'].value_counts())\n",
    "plt.bar(x_val, y_val)\n",
    "plt.xlabel('Substances')\n",
    "plt.ylabel('No of Scanns')\n",
    "plt.title('The Original Dataset')\n",
    "plt.show()"
   ]
  },
  {
   "cell_type": "code",
   "execution_count": 23,
   "id": "910803a0",
   "metadata": {},
   "outputs": [
    {
     "name": "stdout",
     "output_type": "stream",
     "text": [
      "[[247 516 447 ... 17348 5110 'Cassava Flour']\n",
      " [247 516 447 ... 17348 5110 'Cassava Flour']\n",
      " [247 516 447 ... 17349 5112 'Cassava Flour']\n",
      " ...\n",
      " [131 235 176 ... 5090 1331 '3.5% Fat Milk']\n",
      " [131 235 176 ... 5090 1332 '3.5% Fat Milk']\n",
      " [130 234 176 ... 5089 1331 '3.5% Fat Milk']]\n"
     ]
    }
   ],
   "source": [
    "# The values of the ddatasets only (without the column names)\n",
    "obj_vals = obj_df.values\n",
    "print(obj_vals)"
   ]
  },
  {
   "cell_type": "code",
   "execution_count": 24,
   "id": "6940c27c",
   "metadata": {
    "scrolled": true
   },
   "outputs": [
    {
     "name": "stdout",
     "output_type": "stream",
     "text": [
      "[[246, 516, 446, 724, 8831, 20379, 1005, 1347, 17883, 1156, 2771, 820, 654, 483, 543, 420, 17330, 5114, 'Cassava Flour'], [186, 399, 350, 561, 7108, 15672, 570, 854, 6411, 630, 968, 513, 294, 222, 288, 230, 12735, 3737, 'Garri'], [70, 141, 101, 155, 1514, 3401, 189, 270, 1564, 261, 262, 157, 186, 255, 244, 163, 2468, 673, 'Honey'], [119, 221, 134, 190, 2010, 4044, 296, 363, 14339, 472, 1433, 247, 358, 347, 352, 257, 2901, 778, 'Sunflower Oil'], [141, 245, 187, 308, 3540, 7341, 534, 622, 25661, 702, 2956, 390, 544, 518, 575, 432, 5721, 1523, '4%-Fat Liquid Milk'], [116, 246, 213, 328, 3927, 8688, 321, 522, 761, 356, 271, 328, 159, 123, 156, 112, 8633, 2389, 'White Onion'], [197, 448, 366, 613, 7296, 16274, 1000, 1109, 45150, 1241, 7568, 794, 1889, 1256, 880, 513, 11233, 3458, 'Table Salt'], [198, 406, 357, 525, 6037, 12463, 592, 794, 31683, 694, 4723, 434, 843, 748, 750, 500, 7717, 2468, 'Yam Flour'], [143, 256, 216, 360, 3288, 7006, 762, 689, 27490, 783, 12789, 402, 5825, 4342, 2382, 1022, 4749, 1808, 'Paracetamol'], [88, 196, 150, 246, 4027, 7533, 186, 300, 612, 285, 174, 207, 112, 76, 100, 80, 4535, 1132, 'Fresh Tomato'], [125, 365, 183, 222, 2254, 4655, 308, 384, 15175, 553, 1501, 332, 377, 354, 368, 270, 3362, 858, 'Rapeseed Oil'], [105, 189, 135, 213, 2271, 4691, 312, 381, 24423, 538, 2954, 278, 438, 307, 298, 212, 3513, 869, 'Clipper Oil'], [129, 235, 176, 294, 3498, 7143, 437, 519, 15898, 612, 1892, 328, 356, 272, 370, 313, 5093, 1323, '3.5% Fat Milk']]\n"
     ]
    }
   ],
   "source": [
    "def val_ave(df):\n",
    "    '''\n",
    "    This function performs element-wise addition and averaging of the numerical values of the datasets, substance-by-substance.\n",
    "    At the end it produces a dataset of these values together with their corresponding substances.\n",
    "    \n",
    "    Params: df - Dataframe of fingerprints (numerical values) with their corresponding substance labels. One important condition \n",
    "    is that all the substances must be scanned for equal number of times.\n",
    "    \n",
    "    Return: Returns a list of lists of the averaged datasets, with their corresponding substance labels.\n",
    "    '''\n",
    "    vals_list = np.zeros(18)\n",
    "    cnt = 0\n",
    "    num_scan = len(df.values)/len(df.Substance.unique()) # Number of scans of eah substance\n",
    "    vals_lists = []\n",
    "\n",
    "    for subs in list(df.Substance.unique()):\n",
    "        for vals in df.values:\n",
    "            if vals[-1] == subs: # vals[-1] is the last element in the list which is the substance\n",
    "                cnt += 1\n",
    "                vals_list = np.add(vals_list, np.array(vals[:-1])) # Element-wise addition. vals[:-1] is a list of only the numerical values\n",
    "\n",
    "            elif cnt == num_scan:\n",
    "                break\n",
    "\n",
    "        vals_list /= num_scan # Element-wise averaging\n",
    "        vals_list = np.around(list(vals_list))\n",
    "        vals_list = list(vals_list)\n",
    "        vals_list = [math.trunc(fin_list) for fin_list in vals_list] # Remove decimal points\n",
    "        vals_list.append(subs)\n",
    "        vals_lists.append(vals_list)\n",
    "        cnt = 0\n",
    "        vals_list = np.zeros(18)\n",
    "        \n",
    "    return  vals_lists\n",
    "    \n",
    "vals_lists = val_ave(obj_df)\n",
    "print(vals_lists)"
   ]
  },
  {
   "cell_type": "code",
   "execution_count": 25,
   "id": "4307e752",
   "metadata": {},
   "outputs": [
    {
     "name": "stdout",
     "output_type": "stream",
     "text": [
      "[[76, 275, 245, 469, 7217, 16878, 716, 977, 16219, 795, 2409, 563, 368, 128, 199, 157, 14762, 4341, 'Cassava Flour'], [16, 158, 149, 306, 5494, 12171, 281, 484, 4747, 269, 606, 256, 8, 67, 56, 33, 10167, 2964, 'Garri'], [100, 100, 100, 100, 100, 100, 100, 100, 100, 100, 100, 100, 100, 100, 100, 100, 100, 100, 'Honey'], [51, 20, 67, 65, 396, 543, 7, 7, 12675, 111, 1071, 10, 72, 8, 8, 6, 333, 5, 'Sunflower Oil'], [29, 4, 14, 53, 1926, 3840, 245, 252, 23997, 341, 2594, 133, 258, 163, 231, 169, 3153, 750, '4%-Fat Liquid Milk'], [54, 5, 12, 73, 2313, 5187, 32, 152, 703, 5, 91, 71, 73, 32, 12, 49, 6065, 1616, 'White Onion'], [27, 207, 165, 358, 5682, 12773, 711, 739, 43486, 880, 7206, 537, 1603, 901, 536, 250, 8665, 2685, 'Table Salt'], [28, 165, 156, 270, 4423, 8962, 303, 424, 30019, 333, 4361, 177, 557, 393, 406, 237, 5149, 1695, 'Yam Flour'], [27, 15, 15, 105, 1674, 3505, 473, 319, 25826, 422, 12427, 145, 5539, 3987, 2038, 759, 2181, 1035, 'Paracetamol'], [82, 45, 51, 9, 2413, 4032, 97, 70, 852, 76, 12, 50, 26, 79, 44, 17, 1967, 359, 'Fresh Tomato'], [45, 124, 18, 33, 640, 1154, 19, 14, 13511, 192, 1139, 75, 91, 1, 24, 7, 794, 85, 'Rapeseed Oil'], [65, 52, 66, 42, 657, 1190, 23, 11, 22759, 177, 2592, 21, 152, 48, 46, 51, 945, 96, 'Clipper Oil'], [41, 6, 25, 39, 1884, 3642, 148, 149, 14234, 251, 1530, 71, 70, 83, 26, 50, 2525, 550, '3.5% Fat Milk']]\n"
     ]
    }
   ],
   "source": [
    "garri = [186, 399, 350, 561, 7108, 15672, 570, 854, 6411, 630, 968, 513, 294, 222, 288, 230, 12735, 3737]\n",
    "honey = [70, 141, 101, 155, 1514, 3401, 189, 270, 1564, 261, 262, 157, 186, 255, 244, 163, 2468, 673]\n",
    "milk_4 = [141, 245, 187, 308, 3540, 7341, 534, 622, 25661, 702, 2956, 390, 544, 518, 575, 432, 5721, 1523]\n",
    "milk_3 = [129, 235, 176, 294, 3498, 7143, 437, 519, 15898, 612, 1892, 328, 356, 272, 370, 313, 5093, 1323]\n",
    "milks_3 = [179, 285, 258, 349, 3643, 7307, 484, 566, 15394, 655, 1873, 377, 401, 316, 416, 357, 5146, 1361]\n",
    "milks3 = [129, 235, 178, 299, 3593, 7257, 434, 516, 15344, 605, 1823, 327, 351, 266, 366, 307, 5096, 1311]\n",
    "unknown = [231, 336, 278, 398, 3655, 7310, 547, 626, 16411, 725, 2033, 433, 463, 378, 477, 419, 5201, 1419]\n",
    "\n",
    "def list_diffs(obj_name, vals_lists=vals_lists):\n",
    "    '''\n",
    "    This function takes the element-wise differences between any new dataset of a substance and all the existing averaged \n",
    "    datasets from the database. The intention is to see how close these differences are to zero. If the new dataset is exactly\n",
    "    of equal values with any dataset in the list of lists, then the resulting difference dataset would come down to zeros.\n",
    "    Thereafter, a threshold of 100 was used to take the element-wise difference of all these values again. By so doing, \n",
    "    the closer the values are to 100, the more likely that substance is to be predicted. Finally their absolute values were taken.\n",
    "    \n",
    "    Note: The value of the threshold can be changed at will.\n",
    "    \n",
    "    Params: \n",
    "    1. obj_name - A dataset of a substance acquired in the form of a list of numerical values. Note that the length\n",
    "    of this list must be equal with the number of columns of the database, excluding the substance name.\n",
    "    \n",
    "    2. vals_lists - The output of the 'val_ave' function. This is a constant parameter.\n",
    "    \n",
    "    Return: Returns a list of lists containing the absolute values of the element-wise differences between the new object\n",
    "    dataset and the existing datasets from the 'val_ave' function; and again between the threshold value and the resultant\n",
    "    datasets.\n",
    "    '''\n",
    "    diffs_lists = []\n",
    "    threshold = 100\n",
    "\n",
    "    for lists in vals_lists:\n",
    "        diff_list = np.absolute(np.subtract(np.array(obj_name), np.array(lists[:-1])))\n",
    "        diff_lists = list(np.absolute(np.subtract(threshold, diff_list)))\n",
    "        diff_lists.append(lists[-1])\n",
    "        diffs_lists.append(diff_lists)\n",
    "        \n",
    "    return diffs_lists\n",
    "\n",
    "diffs_lists = list_diffs(honey)\n",
    "print(diffs_lists)"
   ]
  },
  {
   "cell_type": "code",
   "execution_count": 26,
   "id": "81c54016",
   "metadata": {},
   "outputs": [
    {
     "name": "stdout",
     "output_type": "stream",
     "text": [
      "[['Cassava Flour', '3710'], ['Garri', '2124'], ['Honey', '100'], ['Sunflower Oil', '858'], ['4%-Fat Liquid Milk', '2119'], ['White Onion', '919'], ['Table Salt', '4856'], ['Yam Flour', '3225'], ['Paracetamol', '3360'], ['Fresh Tomato', '571'], ['Rapeseed Oil', '998'], ['Clipper Oil', '1610'], ['3.5% Fat Milk', '1406']]\n"
     ]
    }
   ],
   "source": [
    "def pairing(diffs_lists=diffs_lists):\n",
    "    '''\n",
    "    This function takes the average of each list in the resultant list of lists from the 'list_diffs' function. Each of these \n",
    "    average values is paired with its corresponding name label. The idea is that the most likely substance would have an\n",
    "    average value very close to the threshold (100 in this case).\n",
    "    \n",
    "    Params: diffs_lists - A constant parameter. The output of the 'list_diffs' function.\n",
    "    \n",
    "    Return: Returns a list of pairs of lists containing the average values and their corresponding object name labels.\n",
    "    '''\n",
    "    div_list = []\n",
    "    div_lists = []\n",
    "    added = 0\n",
    "    for my_list in diffs_lists:\n",
    "        divided = 0\n",
    "        for element in my_list[:-1]:\n",
    "            added += element\n",
    "        divided = added / len(my_list[:-1])    \n",
    "        div_list = list(np.append(my_list[-1], int(divided)))\n",
    "        div_lists.append(div_list)\n",
    "        added = 0\n",
    "\n",
    "    return div_lists\n",
    "\n",
    "div_lists = pairing()\n",
    "print(div_lists)"
   ]
  },
  {
   "cell_type": "code",
   "execution_count": 27,
   "id": "0a06f9e5",
   "metadata": {},
   "outputs": [
    {
     "data": {
      "image/png": "[encoded data removed]",
      "text/plain": [
       "<Figure size 432x288 with 1 Axes>"
      ]
     },
     "metadata": {
      "needs_background": "light"
     },
     "output_type": "display_data"
    },
    {
     "data": {
      "image/png": "[encoded data removed]",
      "text/plain": [
       "<Figure size 432x288 with 1 Axes>"
      ]
     },
     "metadata": {
      "needs_background": "light"
     },
     "output_type": "display_data"
    },
    {
     "name": "stdout",
     "output_type": "stream",
     "text": [
      "More likely substance(s): [['Honey', '100']]\n",
      "Less likely substance(s): [['Cassava Flour', '3710'], ['Garri', '2124'], ['Sunflower Oil', '858'], ['4%-Fat Liquid Milk', '2119'], ['White Onion', '919'], ['Table Salt', '4856'], ['Yam Flour', '3225'], ['Paracetamol', '3360'], ['Fresh Tomato', '571'], ['Rapeseed Oil', '998'], ['Clipper Oil', '1610'], ['3.5% Fat Milk', '1406']]\n"
     ]
    }
   ],
   "source": [
    "def collections(div_lists=div_lists):\n",
    "    '''\n",
    "    This function carries out the prediction proper, by comparing the individual average values with a range, set with 'min'\n",
    "    and 'max' variables. \n",
    "    \n",
    "    Note: The value of these variables can be changed at will.\n",
    "    \n",
    "    Params: div_lists - A constant parameter. The output of the 'pairing' function.\n",
    "    \n",
    "    Return:\n",
    "    1. A list of lists of the predicted substance(s) with their averaged values.\n",
    "    2. A list of lists of the unlikely substances with their averaged values.\n",
    "    3. A plot of the predicted substance(s) with their averaged values\n",
    "    4. A plot of the unlikely substances with their averaged values.\n",
    "    '''\n",
    "    cnt = 0\n",
    "    min = 50\n",
    "    max = 373\n",
    "    coll_1 = []\n",
    "    coll_2 = []\n",
    "    obj_coll_1 = []\n",
    "    val_coll_1 = []\n",
    "    obj_coll_2 = []\n",
    "    val_coll_2 = []\n",
    "    for pairs in div_lists:\n",
    "        cnt += 1\n",
    "        if min <= int(pairs[-1]) <= max:\n",
    "            coll_1.append(pairs) # Creating a list for the more likely substance(s)\n",
    "        \n",
    "        else:\n",
    "            coll_2.append(pairs) # Creating a list for the less likely substances\n",
    "             \n",
    "    for packs in coll_2:\n",
    "        obj_coll_2.append(packs[0])\n",
    "        val_coll_2.append(int(packs[1]))\n",
    "    \n",
    "    # Plot for the less likely substances\n",
    "    plt.bar(obj_coll_2, val_coll_2, color='orange')\n",
    "    plt.xlabel('Substances')\n",
    "    plt.ylabel('Proportion')\n",
    "    plt.title('Less likely Substance(s)')\n",
    "    plt.show()\n",
    "    \n",
    "    if (cnt == len(div_lists)) and (len(coll_1) == 0):\n",
    "        return 'No matching substance!', 'Available substances: {}'.format(coll_2)\n",
    "    else:\n",
    "        for pack in coll_1:\n",
    "            obj_coll_1.append(pack[0])\n",
    "            val_coll_1.append(int(pack[1]))\n",
    "        \n",
    "        # Plot for the more likely substance(s)\n",
    "        plt.bar(obj_coll_1, val_coll_1, color='green')\n",
    "        plt.xlabel('Substances')\n",
    "        plt.ylabel('Proportion')\n",
    "        plt.title('Likely Substance(s)')\n",
    "        plt.show()\n",
    "        \n",
    "        return 'More likely substance(s): {}'.format(coll_1), 'Less likely substance(s): {}'.format(coll_2)\n",
    "\n",
    "coll_1, coll_2 = collections()\n",
    "print(coll_1)\n",
    "print(coll_2)"
   ]
  },
  {
   "cell_type": "code",
   "execution_count": 28,
   "id": "43e29d4f",
   "metadata": {},
   "outputs": [
    {
     "name": "stdout",
     "output_type": "stream",
     "text": [
      "Likely Honey\n"
     ]
    }
   ],
   "source": [
    "# Predicting with Random Forest\n",
    "\n",
    "def rand_forest(objdf, obj_list):\n",
    "    '''\n",
    "    This function implements substance prediction using the Random Forest algorithm of the sklearn.\n",
    "    \n",
    "    Params:\n",
    "    1. objdf - A csv database of object fingerprints with their corresponding object name labels.\n",
    "    2. obj_list - A list containing numerical values which are the fingerprint of an object to be identified.\n",
    "    \n",
    "    Return: Returns a predicted substance.\n",
    "    '''\n",
    "    df = pd.read_csv(objdf)\n",
    "    X = df.drop(columns=['Substance'])\n",
    "    y = df['Substance']\n",
    "    X_train, X_test, y_train, y_test = train_test_split(X, y, test_size=0.2, random_state=2)\n",
    "\n",
    "    model = RandomForestClassifier()\n",
    "    model.fit(X_train, y_train)\n",
    "    predictions = model.predict([obj_list])\n",
    "    return predictions[0]\n",
    "\n",
    "predictions = rand_forest('objdbase.csv', honey)\n",
    "print(\"Likely {}\".format(predictions))"
   ]
  }
 ],
 "metadata": {
  "kernelspec": {
   "display_name": "Python 3 (ipykernel)",
   "language": "python",
   "name": "python3"
  },
  "language_info": {
   "codemirror_mode": {
    "name": "ipython",
    "version": 3
   },
   "file_extension": ".py",
   "mimetype": "text/x-python",
   "name": "python",
   "nbconvert_exporter": "python",
   "pygments_lexer": "ipython3",
   "version": "3.9.7"
  }
 },
 "nbformat": 4,
 "nbformat_minor": 5
}
