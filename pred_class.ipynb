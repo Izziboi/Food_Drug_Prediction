{
 "cells": [
  {
   "cell_type": "markdown",
   "id": "4fc18ddb",
   "metadata": {},
   "source": [
    "### This is the class implementation of the codes. The function-by-function implemetation is contained in the 'food_drug_predict' file."
   ]
  },
  {
   "cell_type": "code",
   "execution_count": 70,
   "id": "1ecd2988",
   "metadata": {},
   "outputs": [],
   "source": [
    "import pandas as pd\n",
    "import numpy as np\n",
    "import math\n",
    "from matplotlib import pyplot as plt\n",
    "\n",
    "from sklearn.ensemble import RandomForestClassifier\n",
    "from sklearn.model_selection import train_test_split"
   ]
  },
  {
   "cell_type": "code",
   "execution_count": 71,
   "id": "488530ea",
   "metadata": {},
   "outputs": [
    {
     "ename": "SyntaxError",
     "evalue": "'break' outside loop (Temp/ipykernel_5680/284259945.py, line 28)",
     "output_type": "error",
     "traceback": [
      "\u001b[1;36m  File \u001b[1;32m\"C:\\Users\\add654\\AppData\\Local\\Temp/ipykernel_5680/284259945.py\"\u001b[1;36m, line \u001b[1;32m28\u001b[0m\n\u001b[1;33m    break\u001b[0m\n\u001b[1;37m    ^\u001b[0m\n\u001b[1;31mSyntaxError\u001b[0m\u001b[1;31m:\u001b[0m 'break' outside loop\n"
     ]
    }
   ],
   "source": [
    "class Predicts:\n",
    "    '''\n",
    "    This class harbours all the functions necessary for making predictions in this work.\n",
    "    \n",
    "    Params:\n",
    "    1. dbase - A csv database of object fingerprints with their corresponding name labels.\n",
    "    \n",
    "    Note: When using this class, make sure you wrap the 'dbase' value in a quotaion mark as: 'dbase.csv'.\n",
    "    \n",
    "    2. finger_print - A list containing only the fingerprints of an object to be identified.\n",
    "    \n",
    "    Return:\n",
    "    1. A list of lists of the predicted substance(s) with their averaged values.\n",
    "    2. A list of lists of the unlikely substances with their averaged values.\n",
    "    3. A plot of the predicted substance(s) with their averaged values\n",
    "    4. A plot of the unlikely substances with their averaged values.\n",
    "    '''       \n",
    "    def __init__(self, dbase, finger_print):\n",
    "        \n",
    "        # Instantiate the arguments\n",
    "        self.dbase = dbase\n",
    "        self.finger_print = finger_print\n",
    "                \n",
    "        self.df = pd.read_csv(dbase)\n",
    "            \n",
    "    \n",
    "    def val_ave(self):\n",
    "        '''\n",
    "        This function performs element-wise addition and averaging of the numerical values of the datasets, \n",
    "        substance-by-substance. At the end it produces a dataset of these values together with their corresponding substances.\n",
    "\n",
    "        Params: df - Dataframe of fingerprints (numerical values) with their corresponding substance labels, inherited from the \n",
    "        parent class. One important condition is that all the substances must be scanned for equal number of times.\n",
    "\n",
    "        Return: Returns a list of lists of the averaged datasets, with their corresponding substance labels.\n",
    "        '''\n",
    "        vals_list = np.zeros(18)\n",
    "        cnt = 0\n",
    "        num_scan = len(self.df.values)/len(self.df.Substance.unique()) # Number of scans of eah substance\n",
    "        vals_lists = []\n",
    "\n",
    "        for subs in list(self.df.Substance.unique()):\n",
    "            for vals in self.df.values:\n",
    "                if vals[-1] == subs: # vals[-1] is the last element in the list which is the substance\n",
    "                    cnt += 1\n",
    "                    vals_list = np.add(vals_list, np.array(vals[:-1])) # Element-wise addition. vals[:-1] is a list of only the numerical values\n",
    "\n",
    "                elif cnt == num_scan:\n",
    "                    break\n",
    "\n",
    "            vals_list /= num_scan # Element-wise averaging\n",
    "            vals_list = np.around(list(vals_list))\n",
    "            vals_list = list(vals_list)\n",
    "            vals_list = [math.trunc(fin_list) for fin_list in vals_list] # Remove decimal points\n",
    "            vals_list.append(subs)\n",
    "            vals_lists.append(vals_list)\n",
    "            cnt = 0\n",
    "            vals_list = np.zeros(18)\n",
    "\n",
    "        return  vals_lists\n",
    "        "
   ]
  },
  {
   "cell_type": "code",
   "execution_count": null,
   "id": "dfe1503b",
   "metadata": {},
   "outputs": [],
   "source": [
    "milks3 = [129, 235, 178, 299, 3593, 7257, 434, 516, 15344, 605, 1823, 327, 351, 266, 366, 307, 5096]\n",
    "#milks3 = 23\n",
    "vals_lists = Predicts('objdbase.csv', milks3)\n",
    "print(vals_lists.val_ave())"
   ]
  },
  {
   "cell_type": "code",
   "execution_count": null,
   "id": "7ca6390b",
   "metadata": {},
   "outputs": [],
   "source": [
    "a = ['name', 'ok']\n",
    "type(a)"
   ]
  }
 ],
 "metadata": {
  "kernelspec": {
   "display_name": "Python 3 (ipykernel)",
   "language": "python",
   "name": "python3"
  },
  "language_info": {
   "codemirror_mode": {
    "name": "ipython",
    "version": 3
   },
   "file_extension": ".py",
   "mimetype": "text/x-python",
   "name": "python",
   "nbconvert_exporter": "python",
   "pygments_lexer": "ipython3",
   "version": "3.9.7"
  }
 },
 "nbformat": 4,
 "nbformat_minor": 5
}
